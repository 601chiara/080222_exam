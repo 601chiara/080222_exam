{
 "cells": [
  {
   "cell_type": "code",
   "execution_count": 1,
   "id": "c25376e4-0405-45a2-b6d8-b13e934e882f",
   "metadata": {},
   "outputs": [
    {
     "name": "stderr",
     "output_type": "stream",
     "text": [
      "WARNING (theano.configdefaults): g++ not available, if using conda: `conda install m2w64-toolchain`\n",
      "WARNING (theano.configdefaults): g++ not detected ! Theano will be unable to execute optimized C-implementations (for both CPU and GPU) and will default to Python implementations. Performance will be severely degraded. To remove this warning, set Theano flags cxx to an empty string.\n",
      "WARNING (theano.tensor.blas): Using NumPy C-API based implementation for BLAS functions.\n"
     ]
    }
   ],
   "source": [
    "import numpy as np\n",
    "import pandas as pd  # type: ignore\n",
    "import matplotlib.pyplot as plt # type: ignore\n",
    "import pymc3 as pm   # type: ignore"
   ]
  },
  {
   "cell_type": "code",
   "execution_count": 2,
   "id": "b8f2dbef-1479-4f04-bec8-fc7f65aa3e80",
   "metadata": {},
   "outputs": [
    {
     "data": {
      "text/html": [
       "<div>\n",
       "<style scoped>\n",
       "    .dataframe tbody tr th:only-of-type {\n",
       "        vertical-align: middle;\n",
       "    }\n",
       "\n",
       "    .dataframe tbody tr th {\n",
       "        vertical-align: top;\n",
       "    }\n",
       "\n",
       "    .dataframe thead th {\n",
       "        text-align: right;\n",
       "    }\n",
       "</style>\n",
       "<table border=\"1\" class=\"dataframe\">\n",
       "  <thead>\n",
       "    <tr style=\"text-align: right;\">\n",
       "      <th></th>\n",
       "      <th>group</th>\n",
       "      <th>avgfood</th>\n",
       "      <th>groupsize</th>\n",
       "      <th>area</th>\n",
       "      <th>weight</th>\n",
       "    </tr>\n",
       "  </thead>\n",
       "  <tbody>\n",
       "    <tr>\n",
       "      <th>0</th>\n",
       "      <td>1</td>\n",
       "      <td>0.37</td>\n",
       "      <td>2</td>\n",
       "      <td>1.09</td>\n",
       "      <td>5.02</td>\n",
       "    </tr>\n",
       "    <tr>\n",
       "      <th>1</th>\n",
       "      <td>1</td>\n",
       "      <td>0.37</td>\n",
       "      <td>2</td>\n",
       "      <td>1.09</td>\n",
       "      <td>2.84</td>\n",
       "    </tr>\n",
       "    <tr>\n",
       "      <th>2</th>\n",
       "      <td>2</td>\n",
       "      <td>0.53</td>\n",
       "      <td>2</td>\n",
       "      <td>2.05</td>\n",
       "      <td>5.33</td>\n",
       "    </tr>\n",
       "    <tr>\n",
       "      <th>3</th>\n",
       "      <td>2</td>\n",
       "      <td>0.53</td>\n",
       "      <td>2</td>\n",
       "      <td>2.05</td>\n",
       "      <td>6.07</td>\n",
       "    </tr>\n",
       "    <tr>\n",
       "      <th>4</th>\n",
       "      <td>3</td>\n",
       "      <td>0.49</td>\n",
       "      <td>2</td>\n",
       "      <td>2.12</td>\n",
       "      <td>5.85</td>\n",
       "    </tr>\n",
       "  </tbody>\n",
       "</table>\n",
       "</div>"
      ],
      "text/plain": [
       "   group  avgfood  groupsize  area  weight\n",
       "0      1     0.37          2  1.09    5.02\n",
       "1      1     0.37          2  1.09    2.84\n",
       "2      2     0.53          2  2.05    5.33\n",
       "3      2     0.53          2  2.05    6.07\n",
       "4      3     0.49          2  2.12    5.85"
      ]
     },
     "execution_count": 2,
     "metadata": {},
     "output_type": "execute_result"
    }
   ],
   "source": [
    "# exercise 1\n",
    "\n",
    "df = pd.read_csv('foxes.csv', sep = '[;]', header = 1, engine = 'python')\n",
    "df.rename({'\"group\"': 'group','\"avgfood\"': 'avgfood', '\"groupsize\"': 'groupsize', '\"area\"': 'area', '\"weight\"': 'weight'}, axis = 1, inplace = True)\n",
    "df.head()"
   ]
  },
  {
   "cell_type": "code",
   "execution_count": 3,
   "id": "f409a079-bb0a-4c19-a161-c9170f9120f5",
   "metadata": {},
   "outputs": [
    {
     "data": {
      "image/png": "[encoded data removed]",
      "text/plain": [
       "<Figure size 432x288 with 1 Axes>"
      ]
     },
     "metadata": {
      "needs_background": "light"
     },
     "output_type": "display_data"
    }
   ],
   "source": [
    "# exercise 2\n",
    "\n",
    "df['groupsize'].plot.hist(bins = 7, edgecolor = 'white')\n",
    "plt.title('Groupsize distribution', fontsize = 20)\n",
    "plt.show()"
   ]
  },
  {
   "cell_type": "code",
   "execution_count": 4,
   "id": "a06dc857-2ca5-400d-adc6-7ca402c69e42",
   "metadata": {},
   "outputs": [
    {
     "data": {
      "text/plain": [
       "Text(0, 0.5, 'Groupsize')"
      ]
     },
     "execution_count": 4,
     "metadata": {},
     "output_type": "execute_result"
    },
    {
     "data": {
      "image/png": "[encoded data removed]",
      "text/plain": [
       "<Figure size 432x288 with 1 Axes>"
      ]
     },
     "metadata": {
      "needs_background": "light"
     },
     "output_type": "display_data"
    }
   ],
   "source": [
    "# exercise 3\n",
    "\n",
    "x = df['area']\n",
    "y = df['groupsize']\n",
    "\n",
    "plt.scatter(x,y, marker='o')\n",
    "plt.title('Area vs Groupsize', fontsize = 20)\n",
    "plt.xlabel('Area', fontsize = 14)\n",
    "plt.ylabel('Groupsize', fontsize = 14)"
   ]
  },
  {
   "cell_type": "code",
   "execution_count": 5,
   "id": "c54efb7b-d1eb-4c71-a085-937ea9bdc7bf",
   "metadata": {},
   "outputs": [],
   "source": [
    "# exercise 4\n",
    "\n",
    "def standardize(var: list)-> list:\n",
    "    \n",
    "    mean = np.mean(var)\n",
    "    std = np.std(var)\n",
    "    stand = []\n",
    "    for i in var:\n",
    "        stand.append((i - mean)/std)\n",
    "    return stand"
   ]
  },
  {
   "cell_type": "code",
   "execution_count": 6,
   "id": "22747078-af82-428f-a89a-16ac4c6f1376",
   "metadata": {},
   "outputs": [
    {
     "name": "stdout",
     "output_type": "stream",
     "text": [
      "[0.9258200997725514, -1.3887301496588271, 0.4629100498862757]\n"
     ]
    },
    {
     "data": {
      "text/plain": [
       "[1.224744871391589, -1.224744871391589, 0.0]"
      ]
     },
     "execution_count": 6,
     "metadata": {},
     "output_type": "execute_result"
    }
   ],
   "source": [
    "var = [2,-3,1]\n",
    "print(standardize(var))\n",
    "var1 = [1, -1, 0]\n",
    "standardize(var1)"
   ]
  },
  {
   "cell_type": "code",
   "execution_count": 7,
   "id": "2fac9a9a-5836-4bec-95f1-13ef3f9c774d",
   "metadata": {},
   "outputs": [],
   "source": [
    "# exercise 5\n",
    "\n",
    "def pearson(x:list, y:list)-> float:\n",
    "    \n",
    "    assert len(x) == len(y)\n",
    "    \n",
    "    stand_x = standardize(x)\n",
    "    stand_y = standardize(y)\n",
    "    \n",
    "    prod = []\n",
    "    \n",
    "    for i, j in zip(stand_x, stand_y):\n",
    "        prod.append(i * j)\n",
    "        R_xy = np.mean(prod)\n",
    "        \n",
    "    if (R_xy - np.corrcoef(x, y)[0,1]) < 1e-6: \n",
    "        return R_xy\n",
    "    \n",
    "    "
   ]
  },
  {
   "cell_type": "code",
   "execution_count": 8,
   "id": "f03819d2-a605-4582-aa4a-dca9df08f0b4",
   "metadata": {},
   "outputs": [
    {
     "data": {
      "text/plain": [
       "0.9449111825230679"
      ]
     },
     "execution_count": 8,
     "metadata": {},
     "output_type": "execute_result"
    }
   ],
   "source": [
    "pearson([1,-1,0], [2,-3,1])"
   ]
  },
  {
   "cell_type": "code",
   "execution_count": 9,
   "id": "d985df1f-56c1-4777-93a0-bea32001c857",
   "metadata": {},
   "outputs": [
    {
     "data": {
      "text/html": [
       "<div>\n",
       "<style scoped>\n",
       "    .dataframe tbody tr th:only-of-type {\n",
       "        vertical-align: middle;\n",
       "    }\n",
       "\n",
       "    .dataframe tbody tr th {\n",
       "        vertical-align: top;\n",
       "    }\n",
       "\n",
       "    .dataframe thead th {\n",
       "        text-align: right;\n",
       "    }\n",
       "</style>\n",
       "<table border=\"1\" class=\"dataframe\">\n",
       "  <thead>\n",
       "    <tr style=\"text-align: right;\">\n",
       "      <th></th>\n",
       "      <th>group</th>\n",
       "      <th>avgfood</th>\n",
       "      <th>groupsize</th>\n",
       "      <th>area</th>\n",
       "      <th>weight</th>\n",
       "      <th>standard area</th>\n",
       "      <th>standard groupsize</th>\n",
       "    </tr>\n",
       "  </thead>\n",
       "  <tbody>\n",
       "    <tr>\n",
       "      <th>0</th>\n",
       "      <td>1</td>\n",
       "      <td>0.37</td>\n",
       "      <td>2</td>\n",
       "      <td>1.09</td>\n",
       "      <td>5.02</td>\n",
       "      <td>-2.249313</td>\n",
       "      <td>-1.530701</td>\n",
       "    </tr>\n",
       "    <tr>\n",
       "      <th>1</th>\n",
       "      <td>1</td>\n",
       "      <td>0.37</td>\n",
       "      <td>2</td>\n",
       "      <td>1.09</td>\n",
       "      <td>2.84</td>\n",
       "      <td>-2.249313</td>\n",
       "      <td>-1.530701</td>\n",
       "    </tr>\n",
       "    <tr>\n",
       "      <th>2</th>\n",
       "      <td>2</td>\n",
       "      <td>0.53</td>\n",
       "      <td>2</td>\n",
       "      <td>2.05</td>\n",
       "      <td>5.33</td>\n",
       "      <td>-1.210738</td>\n",
       "      <td>-1.530701</td>\n",
       "    </tr>\n",
       "    <tr>\n",
       "      <th>3</th>\n",
       "      <td>2</td>\n",
       "      <td>0.53</td>\n",
       "      <td>2</td>\n",
       "      <td>2.05</td>\n",
       "      <td>6.07</td>\n",
       "      <td>-1.210738</td>\n",
       "      <td>-1.530701</td>\n",
       "    </tr>\n",
       "    <tr>\n",
       "      <th>4</th>\n",
       "      <td>3</td>\n",
       "      <td>0.49</td>\n",
       "      <td>2</td>\n",
       "      <td>2.12</td>\n",
       "      <td>5.85</td>\n",
       "      <td>-1.135008</td>\n",
       "      <td>-1.530701</td>\n",
       "    </tr>\n",
       "  </tbody>\n",
       "</table>\n",
       "</div>"
      ],
      "text/plain": [
       "   group  avgfood  groupsize  area  weight  standard area  standard groupsize\n",
       "0      1     0.37          2  1.09    5.02      -2.249313           -1.530701\n",
       "1      1     0.37          2  1.09    2.84      -2.249313           -1.530701\n",
       "2      2     0.53          2  2.05    5.33      -1.210738           -1.530701\n",
       "3      2     0.53          2  2.05    6.07      -1.210738           -1.530701\n",
       "4      3     0.49          2  2.12    5.85      -1.135008           -1.530701"
      ]
     },
     "execution_count": 9,
     "metadata": {},
     "output_type": "execute_result"
    }
   ],
   "source": [
    "# exercise 6\n",
    "\n",
    "std_area_list = standardize(df['area'].values.tolist())\n",
    "std_groupsize_list = standardize(df['groupsize'].values.tolist())\n",
    "\n",
    "df['standard area'] = pd.DataFrame(std_area_list)\n",
    "df['standard groupsize'] = pd.DataFrame(std_groupsize_list)\n",
    "df.head()"
   ]
  },
  {
   "cell_type": "code",
   "execution_count": 10,
   "id": "519e2edf-eb74-439c-8b21-5b2305ee51fa",
   "metadata": {},
   "outputs": [
    {
     "data": {
      "text/plain": [
       "1.5385111282516362"
      ]
     },
     "execution_count": 10,
     "metadata": {},
     "output_type": "execute_result"
    }
   ],
   "source": [
    "df['groupsize'].std()"
   ]
  },
  {
   "cell_type": "code",
   "execution_count": 11,
   "id": "6f0987b0-76d2-42fb-9428-a953a1e24e74",
   "metadata": {},
   "outputs": [
    {
     "data": {
      "image/png": "[encoded data removed]",
      "text/plain": [
       "<Figure size 432x288 with 1 Axes>"
      ]
     },
     "metadata": {
      "needs_background": "light"
     },
     "output_type": "display_data"
    }
   ],
   "source": [
    "#exercise 7\n",
    "\n",
    "h = df['standard area']\n",
    "k = df['standard groupsize']\n",
    "\n",
    "R_ag = pearson(df['standard area'].values.tolist(), df['standard groupsize'].values.tolist())\n",
    "\n",
    "plt.scatter(h,k, marker='o', color = 'orange')\n",
    "plt.axline((0, 0), slope=R_ag, color='green')\n",
    "plt.title('Standard area vs standard groupsize', fontsize = 16)\n",
    "plt.plot(0,0, marker='*', markersize=8, color = 'black')\n",
    "plt.xlabel('Standard area', fontsize = 12)\n",
    "plt.ylabel('Standard groupsize', fontsize = 12)\n",
    "plt.show()"
   ]
  },
  {
   "cell_type": "code",
   "execution_count": 15,
   "id": "1196736c-e853-49cd-924c-337e6b7862f2",
   "metadata": {},
   "outputs": [
    {
     "name": "stderr",
     "output_type": "stream",
     "text": [
      "Auto-assigning NUTS sampler...\n",
      "Initializing NUTS using jitter+adapt_diag...\n",
      "C:\\Users\\chiar\\.virtualenvs\\pyqb-20220208-F1Y8T0ip\\lib\\site-packages\\theano\\tensor\\elemwise.py:826: RuntimeWarning: divide by zero encountered in log\n",
      "  variables = ufunc(*ufunc_args, **ufunc_kwargs)\n",
      "C:\\Users\\chiar\\.virtualenvs\\pyqb-20220208-F1Y8T0ip\\lib\\site-packages\\theano\\tensor\\elemwise.py:826: RuntimeWarning: invalid value encountered in multiply\n",
      "  variables = ufunc(*ufunc_args, **ufunc_kwargs)\n",
      "C:\\Users\\chiar\\.virtualenvs\\pyqb-20220208-F1Y8T0ip\\lib\\site-packages\\theano\\tensor\\elemwise.py:826: RuntimeWarning: invalid value encountered in log\n",
      "  variables = ufunc(*ufunc_args, **ufunc_kwargs)\n",
      "Multiprocess sampling (4 chains in 4 jobs)\n",
      "NUTS: [alpha]\n"
     ]
    },
    {
     "data": {
      "text/html": [
       "\n",
       "    <div>\n",
       "        <style>\n",
       "            /* Turns off some styling */\n",
       "            progress {\n",
       "                /* gets rid of default border in Firefox and Opera. */\n",
       "                border: none;\n",
       "                /* Needs to be in here for Safari polyfill so background images work as expected. */\n",
       "                background-size: auto;\n",
       "            }\n",
       "            .progress-bar-interrupted, .progress-bar-interrupted::-webkit-progress-bar {\n",
       "                background: #F44336;\n",
       "            }\n",
       "        </style>\n",
       "      <progress value='8000' class='' max='8000' style='width:300px; height:20px; vertical-align: middle;'></progress>\n",
       "      100.00% [8000/8000 01:24<00:00 Sampling 4 chains, 0 divergences]\n",
       "    </div>\n",
       "    "
      ],
      "text/plain": [
       "<IPython.core.display.HTML object>"
      ]
     },
     "metadata": {},
     "output_type": "display_data"
    },
    {
     "name": "stderr",
     "output_type": "stream",
     "text": [
      "Sampling 4 chains for 1_000 tune and 1_000 draw iterations (4_000 + 4_000 draws total) took 97 seconds.\n"
     ]
    },
    {
     "data": {
      "image/png": "[encoded data removed]",
      "text/plain": [
       "<Figure size 432x288 with 1 Axes>"
      ]
     },
     "metadata": {
      "needs_background": "light"
     },
     "output_type": "display_data"
    }
   ],
   "source": [
    "with pm.Model() as mymodel:\n",
    "    \n",
    "    alpha = pm.Normal('alpha', mu = 0)\n",
    "    groupsize = pm.Normal('groupsize', mu = alpha*df['standard area'], observed = df['standard groupsize'])\n",
    "    actual = pm.sample(return_inferencedata=True)\n",
    "    \n",
    "_ = pm.plot_posterior(actual)    "
   ]
  },
  {
   "cell_type": "code",
   "execution_count": null,
   "id": "cddb1973-d13a-4705-85b8-21759522a251",
   "metadata": {},
   "outputs": [],
   "source": []
  }
 ],
 "metadata": {
  "kernelspec": {
   "display_name": "pyqb-20220208-F1Y8T0ip",
   "language": "python",
   "name": "pyqb-20220208-f1y8t0ip"
  },
  "language_info": {
   "codemirror_mode": {
    "name": "ipython",
    "version": 3
   },
   "file_extension": ".py",
   "mimetype": "text/x-python",
   "name": "python",
   "nbconvert_exporter": "python",
   "pygments_lexer": "ipython3",
   "version": "3.9.9"
  }
 },
 "nbformat": 4,
 "nbformat_minor": 5
}
