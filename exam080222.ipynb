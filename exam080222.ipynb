{
 "cells": [
  {
   "cell_type": "code",
   "execution_count": 1,
   "id": "6bee05b3-9cf2-43cc-a244-673fd117f514",
   "metadata": {},
   "outputs": [
    {
     "name": "stderr",
     "output_type": "stream",
     "text": [
      "WARNING (theano.configdefaults): g++ not available, if using conda: `conda install m2w64-toolchain`\n",
      "WARNING (theano.configdefaults): g++ not detected ! Theano will be unable to execute optimized C-implementations (for both CPU and GPU) and will default to Python implementations. Performance will be severely degraded. To remove this warning, set Theano flags cxx to an empty string.\n",
      "WARNING (theano.tensor.blas): Using NumPy C-API based implementation for BLAS functions.\n"
     ]
    }
   ],
   "source": [
    "import numpy as np\n",
    "import pandas as pd  # type: ignore\n",
    "import matplotlib.pyplot as plt # type: ignore\n",
    "import pymc3 as pm   # type: ignore"
   ]
  },
  {
   "cell_type": "code",
   "execution_count": 2,
   "id": "c434e079-b413-4008-baf5-bffb96427641",
   "metadata": {},
   "outputs": [
    {
     "name": "stdout",
     "output_type": "stream",
     "text": [
      "True\n",
      "True\n"
     ]
    },
    {
     "data": {
      "text/html": [
       "<div>\n",
       "<style scoped>\n",
       "    .dataframe tbody tr th:only-of-type {\n",
       "        vertical-align: middle;\n",
       "    }\n",
       "\n",
       "    .dataframe tbody tr th {\n",
       "        vertical-align: top;\n",
       "    }\n",
       "\n",
       "    .dataframe thead th {\n",
       "        text-align: right;\n",
       "    }\n",
       "</style>\n",
       "<table border=\"1\" class=\"dataframe\">\n",
       "  <thead>\n",
       "    <tr style=\"text-align: right;\">\n",
       "      <th></th>\n",
       "      <th>group</th>\n",
       "      <th>avgfood</th>\n",
       "      <th>groupsize</th>\n",
       "      <th>area</th>\n",
       "      <th>weight</th>\n",
       "    </tr>\n",
       "  </thead>\n",
       "  <tbody>\n",
       "    <tr>\n",
       "      <th>0</th>\n",
       "      <td>1</td>\n",
       "      <td>0.37</td>\n",
       "      <td>2</td>\n",
       "      <td>1.09</td>\n",
       "      <td>5.02</td>\n",
       "    </tr>\n",
       "    <tr>\n",
       "      <th>1</th>\n",
       "      <td>1</td>\n",
       "      <td>0.37</td>\n",
       "      <td>2</td>\n",
       "      <td>1.09</td>\n",
       "      <td>2.84</td>\n",
       "    </tr>\n",
       "    <tr>\n",
       "      <th>2</th>\n",
       "      <td>2</td>\n",
       "      <td>0.53</td>\n",
       "      <td>2</td>\n",
       "      <td>2.05</td>\n",
       "      <td>5.33</td>\n",
       "    </tr>\n",
       "    <tr>\n",
       "      <th>3</th>\n",
       "      <td>2</td>\n",
       "      <td>0.53</td>\n",
       "      <td>2</td>\n",
       "      <td>2.05</td>\n",
       "      <td>6.07</td>\n",
       "    </tr>\n",
       "    <tr>\n",
       "      <th>4</th>\n",
       "      <td>3</td>\n",
       "      <td>0.49</td>\n",
       "      <td>2</td>\n",
       "      <td>2.12</td>\n",
       "      <td>5.85</td>\n",
       "    </tr>\n",
       "  </tbody>\n",
       "</table>\n",
       "</div>"
      ],
      "text/plain": [
       "  group  avgfood  groupsize  area  weight\n",
       "0     1     0.37          2  1.09    5.02\n",
       "1     1     0.37          2  1.09    2.84\n",
       "2     2     0.53          2  2.05    5.33\n",
       "3     2     0.53          2  2.05    6.07\n",
       "4     3     0.49          2  2.12    5.85"
      ]
     },
     "execution_count": 2,
     "metadata": {},
     "output_type": "execute_result"
    }
   ],
   "source": [
    "# exercise 1\n",
    "\n",
    "fox = pd.read_csv('foxes.csv', comment = '#', delimiter = ';', dtype={'group': 'category', 'groupsize': 'int8'})\n",
    "print(fox['groupsize'].dtypes == 'int8')\n",
    "print(fox['group'].dtypes == 'category')\n",
    "fox.head()"
   ]
  },
  {
   "cell_type": "code",
   "execution_count": 3,
   "id": "d64122c4-6910-4cc8-8dea-85ff70fb6818",
   "metadata": {},
   "outputs": [
    {
     "data": {
      "image/png": "[encoded data removed]",
      "text/plain": [
       "<Figure size 720x432 with 1 Axes>"
      ]
     },
     "metadata": {
      "needs_background": "light"
     },
     "output_type": "display_data"
    }
   ],
   "source": [
    "# exercise 2\n",
    "\n",
    "fig, ax = plt.subplots(figsize = (10, 6))\n",
    "\n",
    "ax.hist(fox['groupsize'], edgecolor = 'white')\n",
    "\n",
    "plt.title('Groupsize distribution', fontsize = 20)\n",
    "plt.xticks(np.arange(0, fox['groupsize'].max(), 1))\n",
    "plt.xlabel('Groupsize', fontsize = 14)\n",
    "plt.ylabel('Counts', fontsize = 14)\n",
    "plt.show()"
   ]
  },
  {
   "cell_type": "code",
   "execution_count": 4,
   "id": "f68b2bf1-8a65-4221-8675-35db4911b68a",
   "metadata": {},
   "outputs": [
    {
     "data": {
      "image/png": "[encoded data removed]",
      "text/plain": [
       "<Figure size 360x360 with 1 Axes>"
      ]
     },
     "metadata": {
      "needs_background": "light"
     },
     "output_type": "display_data"
    }
   ],
   "source": [
    "# exercise 3\n",
    "\n",
    "fig, ax = plt.subplots(figsize = (5, 5))\n",
    "\n",
    "ax.scatter(fox['area'], fox['groupsize'], marker = '.')\n",
    "\n",
    "plt.title('Area vs Groupsize', fontsize = 20)\n",
    "plt.xlabel('Area', fontsize = 14)\n",
    "plt.ylabel('Groupsize', fontsize = 14)\n",
    "plt.show()"
   ]
  },
  {
   "cell_type": "code",
   "execution_count": 5,
   "id": "1780241d-0f1c-424a-b82b-40d32a8de291",
   "metadata": {},
   "outputs": [],
   "source": [
    "# exercise 4\n",
    "\n",
    "def standardize(var: np.typing.NDArray)->np.typing.NDArray:\n",
    "    \"\"\"\n",
    "    >>> standardize([1,-1,0])\n",
    "    [1.22474487, -1.22474487,  0.]\n",
    "    \n",
    "    \"\"\"\n",
    "    \n",
    "    std = (var-var.mean())/var.std()\n",
    "    \n",
    "    return std"
   ]
  },
  {
   "cell_type": "code",
   "execution_count": 6,
   "id": "4e3838bc-3d3f-4790-9e7b-fc4408a705ad",
   "metadata": {},
   "outputs": [],
   "source": [
    "# exercise 5\n",
    "\n",
    "def pearson(x: np.ndarray, y: np.ndarray)-> float:\n",
    "    \n",
    "    assert len(x) == len(y)\n",
    "    \n",
    "    stand_x = standardize(x)\n",
    "    stand_y = standardize(y)\n",
    "    \n",
    "    R_xy = np.mean((stand_x-np.mean(stand_x))*(stand_y-np.mean(stand_y)))/(np.std(stand_x)*np.std(stand_y))\n",
    "    \n",
    "    if (R_xy - np.corrcoef(x, y)[0,1]) < 1e-6: \n",
    "        return R_xy\n",
    "    \n",
    "    return R_xy"
   ]
  },
  {
   "cell_type": "code",
   "execution_count": 7,
   "id": "c6ad02a2-086f-47bd-b8a2-893575e3db99",
   "metadata": {},
   "outputs": [
    {
     "data": {
      "text/html": [
       "<div>\n",
       "<style scoped>\n",
       "    .dataframe tbody tr th:only-of-type {\n",
       "        vertical-align: middle;\n",
       "    }\n",
       "\n",
       "    .dataframe tbody tr th {\n",
       "        vertical-align: top;\n",
       "    }\n",
       "\n",
       "    .dataframe thead th {\n",
       "        text-align: right;\n",
       "    }\n",
       "</style>\n",
       "<table border=\"1\" class=\"dataframe\">\n",
       "  <thead>\n",
       "    <tr style=\"text-align: right;\">\n",
       "      <th></th>\n",
       "      <th>group</th>\n",
       "      <th>avgfood</th>\n",
       "      <th>groupsize</th>\n",
       "      <th>area</th>\n",
       "      <th>weight</th>\n",
       "      <th>std_area</th>\n",
       "      <th>std_groupsize</th>\n",
       "    </tr>\n",
       "  </thead>\n",
       "  <tbody>\n",
       "    <tr>\n",
       "      <th>0</th>\n",
       "      <td>1</td>\n",
       "      <td>0.37</td>\n",
       "      <td>2</td>\n",
       "      <td>1.09</td>\n",
       "      <td>5.02</td>\n",
       "      <td>-2.239596</td>\n",
       "      <td>-1.524089</td>\n",
       "    </tr>\n",
       "    <tr>\n",
       "      <th>1</th>\n",
       "      <td>1</td>\n",
       "      <td>0.37</td>\n",
       "      <td>2</td>\n",
       "      <td>1.09</td>\n",
       "      <td>2.84</td>\n",
       "      <td>-2.239596</td>\n",
       "      <td>-1.524089</td>\n",
       "    </tr>\n",
       "    <tr>\n",
       "      <th>2</th>\n",
       "      <td>2</td>\n",
       "      <td>0.53</td>\n",
       "      <td>2</td>\n",
       "      <td>2.05</td>\n",
       "      <td>5.33</td>\n",
       "      <td>-1.205508</td>\n",
       "      <td>-1.524089</td>\n",
       "    </tr>\n",
       "    <tr>\n",
       "      <th>3</th>\n",
       "      <td>2</td>\n",
       "      <td>0.53</td>\n",
       "      <td>2</td>\n",
       "      <td>2.05</td>\n",
       "      <td>6.07</td>\n",
       "      <td>-1.205508</td>\n",
       "      <td>-1.524089</td>\n",
       "    </tr>\n",
       "    <tr>\n",
       "      <th>4</th>\n",
       "      <td>3</td>\n",
       "      <td>0.49</td>\n",
       "      <td>2</td>\n",
       "      <td>2.12</td>\n",
       "      <td>5.85</td>\n",
       "      <td>-1.130106</td>\n",
       "      <td>-1.524089</td>\n",
       "    </tr>\n",
       "  </tbody>\n",
       "</table>\n",
       "</div>"
      ],
      "text/plain": [
       "  group  avgfood  groupsize  area  weight  std_area  std_groupsize\n",
       "0     1     0.37          2  1.09    5.02 -2.239596      -1.524089\n",
       "1     1     0.37          2  1.09    2.84 -2.239596      -1.524089\n",
       "2     2     0.53          2  2.05    5.33 -1.205508      -1.524089\n",
       "3     2     0.53          2  2.05    6.07 -1.205508      -1.524089\n",
       "4     3     0.49          2  2.12    5.85 -1.130106      -1.524089"
      ]
     },
     "execution_count": 7,
     "metadata": {},
     "output_type": "execute_result"
    }
   ],
   "source": [
    "# exercise 6\n",
    "\n",
    "fox['std_area'] = standardize(fox['area'])\n",
    "fox['std_groupsize'] = standardize(fox['groupsize'])\n",
    "fox.head()"
   ]
  },
  {
   "cell_type": "code",
   "execution_count": 14,
   "id": "11826a79-3b0a-44fe-9bc7-d7e3681029af",
   "metadata": {},
   "outputs": [
    {
     "data": {
      "image/png": "[encoded data removed]",
      "text/plain": [
       "<Figure size 360x360 with 1 Axes>"
      ]
     },
     "metadata": {
      "needs_background": "light"
     },
     "output_type": "display_data"
    }
   ],
   "source": [
    "# exercise 7\n",
    "\n",
    "fig, ax = plt.subplots(figsize = (5, 5))\n",
    "\n",
    "R_ag = R_ag = pearson(fox['std_area'], fox['std_groupsize'])\n",
    "\n",
    "ax.scatter(fox['std_area'], fox['std_groupsize'], marker = '.')\n",
    "plt.axline((0, 0), slope=R_ag, color='orange')\n",
    "plt.title('Standard area vs Standard groupsize', fontsize = 20)\n",
    "plt.xlabel('Standard area', fontsize = 14)\n",
    "plt.ylabel('Standard groupsize', fontsize = 14)\n",
    "plt.show()"
   ]
  },
  {
   "cell_type": "code",
   "execution_count": 19,
   "id": "1518e65b-50c0-4bec-8df5-3c19313c580e",
   "metadata": {},
   "outputs": [
    {
     "name": "stderr",
     "output_type": "stream",
     "text": [
      "C:\\Users\\chiar\\AppData\\Local\\Temp\\ipykernel_3660\\3348068880.py:6: FutureWarning: In v4.0, pm.sample will return an `arviz.InferenceData` object instead of a `MultiTrace` by default. You can pass return_inferencedata=True or return_inferencedata=False to be safe and silence this warning.\n",
      "  post = pm.sample()\n",
      "Auto-assigning NUTS sampler...\n",
      "Initializing NUTS using jitter+adapt_diag...\n",
      "C:\\Users\\chiar\\.virtualenvs\\pyqb-20220208-F1Y8T0ip\\lib\\site-packages\\theano\\tensor\\elemwise.py:826: RuntimeWarning: divide by zero encountered in log\n",
      "  variables = ufunc(*ufunc_args, **ufunc_kwargs)\n",
      "C:\\Users\\chiar\\.virtualenvs\\pyqb-20220208-F1Y8T0ip\\lib\\site-packages\\theano\\tensor\\elemwise.py:826: RuntimeWarning: invalid value encountered in multiply\n",
      "  variables = ufunc(*ufunc_args, **ufunc_kwargs)\n",
      "C:\\Users\\chiar\\.virtualenvs\\pyqb-20220208-F1Y8T0ip\\lib\\site-packages\\theano\\tensor\\elemwise.py:826: RuntimeWarning: invalid value encountered in log\n",
      "  variables = ufunc(*ufunc_args, **ufunc_kwargs)\n",
      "Multiprocess sampling (4 chains in 4 jobs)\n",
      "NUTS: [alpha]\n"
     ]
    },
    {
     "data": {
      "text/html": [
       "\n",
       "    <div>\n",
       "        <style>\n",
       "            /* Turns off some styling */\n",
       "            progress {\n",
       "                /* gets rid of default border in Firefox and Opera. */\n",
       "                border: none;\n",
       "                /* Needs to be in here for Safari polyfill so background images work as expected. */\n",
       "                background-size: auto;\n",
       "            }\n",
       "            .progress-bar-interrupted, .progress-bar-interrupted::-webkit-progress-bar {\n",
       "                background: #F44336;\n",
       "            }\n",
       "        </style>\n",
       "      <progress value='8000' class='' max='8000' style='width:300px; height:20px; vertical-align: middle;'></progress>\n",
       "      100.00% [8000/8000 00:35<00:00 Sampling 4 chains, 0 divergences]\n",
       "    </div>\n",
       "    "
      ],
      "text/plain": [
       "<IPython.core.display.HTML object>"
      ]
     },
     "metadata": {},
     "output_type": "display_data"
    },
    {
     "name": "stderr",
     "output_type": "stream",
     "text": [
      "Sampling 4 chains for 1_000 tune and 1_000 draw iterations (4_000 + 4_000 draws total) took 50 seconds.\n"
     ]
    }
   ],
   "source": [
    "# exercise 8\n",
    "\n",
    "with pm.Model() as my_est:\n",
    "    alpha = pm.Normal('alpha', 0, 1)\n",
    "    groupsize = pm.Normal('groupsize', mu = alpha*fox['std_area'], observed = fox['std_groupsize'])\n",
    "    post = pm.sample()"
   ]
  },
  {
   "cell_type": "code",
   "execution_count": 20,
   "id": "c153f5fb-e992-4095-9de4-7e72be02753c",
   "metadata": {},
   "outputs": [
    {
     "data": {
      "image/png": "[encoded data removed]",
      "text/plain": [
       "<Figure size 432x288 with 1 Axes>"
      ]
     },
     "metadata": {
      "needs_background": "light"
     },
     "output_type": "display_data"
    }
   ],
   "source": [
    "with my_est:\n",
    "    pm.plot_posterior(post)"
   ]
  },
  {
   "cell_type": "code",
   "execution_count": null,
   "id": "02b54ec9-9d24-4869-91c0-0cbaf1ea8243",
   "metadata": {},
   "outputs": [],
   "source": []
  }
 ],
 "metadata": {
  "kernelspec": {
   "display_name": "pyqb-20220208-F1Y8T0ip",
   "language": "python",
   "name": "pyqb-20220208-f1y8t0ip"
  },
  "language_info": {
   "codemirror_mode": {
    "name": "ipython",
    "version": 3
   },
   "file_extension": ".py",
   "mimetype": "text/x-python",
   "name": "python",
   "nbconvert_exporter": "python",
   "pygments_lexer": "ipython3",
   "version": "3.9.9"
  }
 },
 "nbformat": 4,
 "nbformat_minor": 5
}
